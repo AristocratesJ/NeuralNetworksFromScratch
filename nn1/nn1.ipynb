{
 "cells": [
  {
   "cell_type": "markdown",
   "id": "7f6d625f-947b-4364-a207-32e1774e7854",
   "metadata": {},
   "source": [
    "## Wczytanie danych i importy"
   ]
  },
  {
   "cell_type": "code",
   "execution_count": 1,
   "id": "d8ef080d-ced6-4c7c-9db4-f8744d9b22cd",
   "metadata": {},
   "outputs": [],
   "source": [
    "import numpy as np\n",
    "import pandas as pd\n",
    "import matplotlib.pyplot as plt"
   ]
  },
  {
   "cell_type": "code",
   "execution_count": 2,
   "id": "164fadf1-374e-42f0-a2ad-5ca1940887b5",
   "metadata": {},
   "outputs": [],
   "source": [
    "# Wczytuje tylko train, bo i tak mamy ręcznie wyznaczyć parametry sieci\n",
    "data = pd.read_csv(\"../Data/regression/steps-large-training.csv\", index_col = 0).to_numpy()"
   ]
  },
  {
   "cell_type": "code",
   "execution_count": 3,
   "id": "0f626693-fa04-4d15-8245-a5058265243e",
   "metadata": {},
   "outputs": [
    {
     "data": {
      "image/png": "[encoded data removed]",
      "text/plain": [
       "<Figure size 640x480 with 1 Axes>"
      ]
     },
     "metadata": {},
     "output_type": "display_data"
    }
   ],
   "source": [
    "plt.scatter(data[:, 0], data[:, 1], s = 1)\n",
    "plt.show()"
   ]
  },
  {
   "cell_type": "markdown",
   "id": "94bed13c-ce64-44bc-811f-1be62508218d",
   "metadata": {},
   "source": [
    "## Definicja sieci"
   ]
  },
  {
   "cell_type": "code",
   "execution_count": 4,
   "id": "ffc17dac-0696-4d56-a8a3-f40e96e72687",
   "metadata": {},
   "outputs": [],
   "source": [
    "def sigmoid(x):\n",
    "    return 1 / (1 + np.exp(-x))\n",
    "def linear(x):\n",
    "    return x\n",
    "def mse(y_true, y_pred):\n",
    "    return np.mean((y_true - y_pred)**2)\n",
    "\n",
    "class Layer: # Warstwa sieci\n",
    "    def __init__(self, input_size, output_size, act_fun):\n",
    "        self.weights = np.random.randn(input_size, output_size)\n",
    "        self.biases = np.random.randn(output_size)\n",
    "        self.act_fun = act_fun\n",
    "\n",
    "    def forward(self, x):\n",
    "        z = np.dot(x, self.weights) + self.biases\n",
    "        z = self.act_fun(z)\n",
    "        return z\n",
    "\n",
    "    def show_params(self):\n",
    "        print(\"Weights\")\n",
    "        print(self.weights)\n",
    "        print(\"Biases\")\n",
    "        print(self.biases)\n",
    "\n",
    "class MLP: # Cała sieć\n",
    "    def __init__(self, neural_arr, act_fun, out_fun):\n",
    "        self.layers = []\n",
    "        for i in range(len(neural_arr) - 2):\n",
    "            self.layers.append(Layer(neural_arr[i], neural_arr[i+1], act_fun))\n",
    "        self.layers.append(Layer(neural_arr[-2], neural_arr[-1], out_fun))\n",
    "\n",
    "        # Do standaryzacji potem\n",
    "        self.input_mean = None\n",
    "        self.input_std = None\n",
    "        self.output_mean = None\n",
    "        self.output_std = None\n",
    "\n",
    "    def standarize_input(self, x):\n",
    "        return (x - self.input_mean) / self.input_std\n",
    "    def standarize_output(self, y):\n",
    "        return (y - self.output_mean) / self.output_std\n",
    "    def destandarize_output(self, y_std):\n",
    "        return y_std * self.output_std + self.output_mean\n",
    "\n",
    "    def forward(self, x):\n",
    "        z = x.copy()\n",
    "        for i in range(len(self.layers)):\n",
    "            z = self.layers[i].forward(z)\n",
    "        return z\n",
    "\n",
    "    def train(self, x, y): # Na razie teoretycznie y bezużyteczny, bo dobieramy ręcznie wagi końcowo\n",
    "        # Zapisuje średnie i odchylenia inputu i outputu\n",
    "        self.input_mean = np.mean(x, axis=0)\n",
    "        self.input_std = np.std(x, axis=0)\n",
    "        self.output_mean = np.mean(y, axis=0)\n",
    "        self.output_std = np.std(y, axis=0)\n",
    "\n",
    "        # standaryzuje x zanim zaczne uczyc\n",
    "        x_std = self.standarize_input(x)\n",
    "        y_pred_std = self.forward(x_std)\n",
    "\n",
    "        return self.destandarize_output(y_pred_std) # destandaryzuje wyrzucajac wynik\n",
    "\n",
    "    def train_without_std(self, x, y):\n",
    "        return self.forward(x)\n",
    "\n",
    "    def show_params(self):\n",
    "        for i in range(len(self.layers)):\n",
    "            print(\"Layer: \", i)\n",
    "            self.layers[i].show_params()\n",
    "            print(\"\")"
   ]
  },
  {
   "cell_type": "markdown",
   "id": "4168a8f2-8106-484a-882b-8763e6163d06",
   "metadata": {},
   "source": [
    "## Testy czy działa"
   ]
  },
  {
   "cell_type": "code",
   "execution_count": 5,
   "id": "d35f92a4-083d-4681-85b9-09c0cf6d7ca8",
   "metadata": {},
   "outputs": [
    {
     "name": "stdout",
     "output_type": "stream",
     "text": [
      "[[1]\n",
      " [2]\n",
      " [3]\n",
      " [4]]\n"
     ]
    }
   ],
   "source": [
    "x = np.array([1, 2, 3, 4]).reshape(-1, 1)\n",
    "print(x)"
   ]
  },
  {
   "cell_type": "code",
   "execution_count": 6,
   "id": "dc256c6e-d09c-4ba6-8159-6d64a57dc334",
   "metadata": {},
   "outputs": [
    {
     "data": {
      "text/plain": [
       "array([[-0.737819  ],\n",
       "       [-0.6972859 ],\n",
       "       [-0.65004723],\n",
       "       [-0.6336947 ]])"
      ]
     },
     "execution_count": 6,
     "metadata": {},
     "output_type": "execute_result"
    }
   ],
   "source": [
    "# Szybki check czy warstwy dobrze działają\n",
    "layer1 = Layer(1, 5, sigmoid)\n",
    "layer2 = Layer(5, 1, linear)\n",
    "z = layer1.forward(x)\n",
    "layer2.forward(z)"
   ]
  },
  {
   "cell_type": "code",
   "execution_count": 7,
   "id": "8c377511-25f3-4896-b645-0983ec7ed037",
   "metadata": {},
   "outputs": [
    {
     "data": {
      "text/plain": [
       "array([[0.52665771],\n",
       "       [0.39415082],\n",
       "       [0.40453334],\n",
       "       [0.43290897]])"
      ]
     },
     "execution_count": 7,
     "metadata": {},
     "output_type": "execute_result"
    }
   ],
   "source": [
    "# Check na instacji sieci\n",
    "net = MLP([1, 5, 10, 1], sigmoid, linear)\n",
    "net.forward(x)"
   ]
  },
  {
   "cell_type": "markdown",
   "id": "898c4922-5293-4171-9885-0b08ec246416",
   "metadata": {},
   "source": [
    "## Dobieranie parametrów"
   ]
  },
  {
   "cell_type": "code",
   "execution_count": 8,
   "id": "52a6a35c-1f1b-4169-955b-2b454976ac40",
   "metadata": {},
   "outputs": [],
   "source": [
    "def train_and_eval(network, x, y):\n",
    "    y_pred = network.train(x, y)\n",
    "    plt.scatter(x, y, s = 1)\n",
    "    plt.scatter(x, y_pred, s=1)\n",
    "    plt.title(f\"MSE: {mse(y, y_pred)}\")\n",
    "    plt.show()\n",
    "def train_without_std_and_eval(network, x, y):\n",
    "    y_pred = network.train_without_std(x, y)\n",
    "    plt.scatter(x, y, s = 1)\n",
    "    plt.scatter(x, y_pred, s=1)\n",
    "    plt.title(f\"MSE: {mse(y, y_pred)}\")\n",
    "    plt.show()"
   ]
  },
  {
   "cell_type": "code",
   "execution_count": 9,
   "id": "6dd9049e-a938-440f-b187-9305469875e5",
   "metadata": {},
   "outputs": [
    {
     "data": {
      "text/plain": [
       "array([[-1.4813543 ],\n",
       "       [ 1.03326405],\n",
       "       [-0.07640313],\n",
       "       ...,\n",
       "       [ 0.81091671],\n",
       "       [ 0.64431837],\n",
       "       [ 0.72881634]])"
      ]
     },
     "execution_count": 9,
     "metadata": {},
     "output_type": "execute_result"
    }
   ],
   "source": [
    "x = data[:, 0].reshape(-1, 1)\n",
    "y = data[:, 1].reshape(-1, 1)\n",
    "x"
   ]
  },
  {
   "cell_type": "code",
   "execution_count": 10,
   "id": "32feffb4-f9d2-4afe-983b-cd8a74b56e31",
   "metadata": {},
   "outputs": [
    {
     "name": "stdout",
     "output_type": "stream",
     "text": [
      "Layer:  0\n",
      "Weights\n",
      "[[-0.81438596  0.63596167  0.21132466 -1.38406     0.50495336]]\n",
      "Biases\n",
      "[-0.85014879  0.47992356  0.26987394 -1.91540179  2.16859001]\n",
      "\n",
      "Layer:  1\n",
      "Weights\n",
      "[[ 1.86517512]\n",
      " [ 0.17366991]\n",
      " [ 1.67955508]\n",
      " [-0.13820623]\n",
      " [-0.7945014 ]]\n",
      "Biases\n",
      "[-1.72673025]\n",
      "\n"
     ]
    }
   ],
   "source": [
    "net = MLP([1, 5, 1], sigmoid, linear)\n",
    "net.show_params()"
   ]
  },
  {
   "cell_type": "code",
   "execution_count": 11,
   "id": "5f7189b7-8b49-48f4-b34a-fbaf51d463ae",
   "metadata": {},
   "outputs": [
    {
     "data": {
      "image/png": "[encoded data removed]",
      "text/plain": [
       "<Figure size 640x480 with 1 Axes>"
      ]
     },
     "metadata": {},
     "output_type": "display_data"
    }
   ],
   "source": [
    "# Sprawdzmy czy fun dziala\n",
    "train_and_eval(net, x, y)"
   ]
  },
  {
   "cell_type": "markdown",
   "id": "2aa891e6-d9f3-4622-bc14-41df3ce7bcce",
   "metadata": {},
   "source": [
    "### Parametry dla steps-large"
   ]
  },
  {
   "cell_type": "code",
   "execution_count": 12,
   "id": "8d784352-2893-44a3-8355-55e459b02cd3",
   "metadata": {},
   "outputs": [],
   "source": [
    "data = pd.read_csv(\"../Data/regression/steps-large-test.csv\", index_col = 0).to_numpy()\n",
    "x = data[:, 0].reshape(-1, 1)\n",
    "y = data[:, 1].reshape(-1, 1)"
   ]
  },
  {
   "cell_type": "code",
   "execution_count": 13,
   "id": "8261333e-6d4e-495d-867f-6b12e30fe64a",
   "metadata": {},
   "outputs": [],
   "source": [
    "net = MLP([1, 5, 1], sigmoid, linear)"
   ]
  },
  {
   "cell_type": "code",
   "execution_count": 14,
   "id": "1b4545ad-c786-4063-85ab-11250e9a95ae",
   "metadata": {},
   "outputs": [],
   "source": [
    "a = 1000000"
   ]
  },
  {
   "cell_type": "code",
   "execution_count": 15,
   "id": "48bf829a-75f3-44e7-b304-3d69932ba6ec",
   "metadata": {},
   "outputs": [],
   "source": [
    "# Wymyślone na kartce\n",
    "w0 = np.array([[a, a, a, 0, 0]])\n",
    "w1 = np.array([[80],[80],[80],[0],[0]])\n",
    "b0 = np.array([0.5*a,   -0.5*a,   -1.5*a,  0, 0])\n",
    "b1 = np.array([-80])"
   ]
  },
  {
   "cell_type": "code",
   "execution_count": 16,
   "id": "01f3d7b6-4fbb-4c8e-b508-c0f810c3bdc8",
   "metadata": {},
   "outputs": [],
   "source": [
    "net.layers[0].weights = w0\n",
    "net.layers[1].weights = w1\n",
    "net.layers[0].biases = b0\n",
    "net.layers[1].biases = b1"
   ]
  },
  {
   "cell_type": "code",
   "execution_count": 17,
   "id": "0b39263f-233c-45a8-ba14-1448893baf4b",
   "metadata": {},
   "outputs": [
    {
     "name": "stderr",
     "output_type": "stream",
     "text": [
      "C:\\Users\\barto\\AppData\\Local\\Temp\\ipykernel_3320\\3397099854.py:2: RuntimeWarning: overflow encountered in exp\n",
      "  return 1 / (1 + np.exp(-x))\n"
     ]
    },
    {
     "data": {
      "image/png": "[encoded data removed]",
      "text/plain": [
       "<Figure size 640x480 with 1 Axes>"
      ]
     },
     "metadata": {},
     "output_type": "display_data"
    }
   ],
   "source": [
    "# Ważne, że bez standaryzacji, żeby dało się dobrać wagi na kartce\n",
    "train_without_std_and_eval(net, x, y)"
   ]
  },
  {
   "cell_type": "markdown",
   "id": "cd97f346-f74d-4c60-9a6e-437343baf3c7",
   "metadata": {},
   "source": [
    "### Parametry dla square-simple"
   ]
  },
  {
   "cell_type": "code",
   "execution_count": 18,
   "id": "d4d7b061-da91-422d-8a8d-d9e0470ca2d6",
   "metadata": {},
   "outputs": [],
   "source": [
    "data = pd.read_csv(\"../Data/regression/square-simple-test.csv\", index_col = 0).to_numpy()\n",
    "x = data[:, 0].reshape(-1, 1)\n",
    "y = data[:, 1].reshape(-1, 1)"
   ]
  },
  {
   "cell_type": "code",
   "execution_count": 19,
   "id": "e0fe9849-61c9-493c-89bb-99845084fbff",
   "metadata": {},
   "outputs": [],
   "source": [
    "net = MLP([1, 5, 1], sigmoid, linear)"
   ]
  },
  {
   "cell_type": "code",
   "execution_count": 20,
   "id": "b8bd140e-7620-47c1-aa9c-9550496ea923",
   "metadata": {},
   "outputs": [],
   "source": [
    "w0 = np.array([[ 2.2237],\n",
    "                      [ 2.5731],\n",
    "                      [-2.3510],\n",
    "                      [-0.2830],\n",
    "                      [ 2.5865]]).T\n",
    "w1 = np.array([[ 2.5537,  3.3424, -1.4906,  2.1481, -3.7459]]).T\n",
    "b0 = np.array([-2.1204, -4.6477,  4.2746,  1.2070,  3.6441])\n",
    "b1 = np.array([2.1246])"
   ]
  },
  {
   "cell_type": "code",
   "execution_count": 21,
   "id": "289b9528-2f84-42ec-8926-4da4d8f960c8",
   "metadata": {},
   "outputs": [],
   "source": [
    "net.layers[0].weights = w0\n",
    "net.layers[1].weights = w1\n",
    "net.layers[0].biases = b0\n",
    "net.layers[1].biases = b1"
   ]
  },
  {
   "cell_type": "code",
   "execution_count": 22,
   "id": "47f3dca0-29b0-46dc-ae00-63d5b4a155bb",
   "metadata": {},
   "outputs": [
    {
     "data": {
      "image/png": "[encoded data removed]",
      "text/plain": [
       "<Figure size 640x480 with 1 Axes>"
      ]
     },
     "metadata": {},
     "output_type": "display_data"
    }
   ],
   "source": [
    "train_and_eval(net, x, y)"
   ]
  }
 ],
 "metadata": {
  "kernelspec": {
   "display_name": "Python 3 (ipykernel)",
   "language": "python",
   "name": "python3"
  },
  "language_info": {
   "codemirror_mode": {
    "name": "ipython",
    "version": 3
   },
   "file_extension": ".py",
   "mimetype": "text/x-python",
   "name": "python",
   "nbconvert_exporter": "python",
   "pygments_lexer": "ipython3",
   "version": "3.12.3"
  }
 },
 "nbformat": 4,
 "nbformat_minor": 5
}
